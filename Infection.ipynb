{
 "cells": [
  {
   "cell_type": "code",
   "execution_count": 1,
   "metadata": {},
   "outputs": [],
   "source": [
    "import numpy as np\n",
    "import networkx as nx\n",
    "import matplotlib.pyplot as plt"
   ]
  },
  {
   "cell_type": "markdown",
   "metadata": {},
   "source": [
    "First you need to build the graph in networkX.  Barabasi-Albert graphs are supposed to be similar to human networks."
   ]
  },
  {
   "cell_type": "code",
   "execution_count": 2,
   "metadata": {},
   "outputs": [],
   "source": [
    "pop_size = 50000\n",
    "# pop = nx.barabasi_albert_graph(pop_size, 10, seed = 5)\n",
    "pop = nx.powerlaw_cluster_graph(pop_size, m=7, p = .2, seed=8)"
   ]
  },
  {
   "cell_type": "markdown",
   "metadata": {},
   "source": [
    "We need to choose an initial infected person.  You can start with more infected people, but need to make edits below."
   ]
  },
  {
   "cell_type": "code",
   "execution_count": 3,
   "metadata": {},
   "outputs": [],
   "source": [
    "first = np.random.randint(pop_size-pop_size//5)+pop_size//5"
   ]
  },
  {
   "cell_type": "markdown",
   "metadata": {},
   "source": [
    "This is where you set up initial parameters for the transmition."
   ]
  },
  {
   "cell_type": "code",
   "execution_count": 202,
   "metadata": {},
   "outputs": [],
   "source": [
    "N = 150      # number of iterations to run simulation for\n",
    "N_max = 20  #The hard cap of the number of people a person can interact with in a day \n",
    "             #this can be edited during run to simulate social distancing\n",
    "p=.2        #The percentage of persons contacts they interact with\n",
    "             #this can be edited during run to simulate social distancing\n",
    "    \n",
    "symp_days = 6    # number of time steps until symptoms appear\n",
    "start_cont_days = 4  # number of time steps until contagious starts\n",
    "cont_days = 12    # number of time steps from contraction to not contagious\n",
    "cure_days = 20   # number of time steps from contraction to being cured\n",
    "mortality_rate = 0.03   # overall mortality rate\n",
    "\n",
    "N_rand_test = 2000    # number of random tests per day\n",
    "\n",
    "\n",
    "p_trans = .125   # probability an interaction results in an infection\n",
    "\n",
    "\n",
    "p_asymp = .2           # percentage of population with no symptoms\n",
    "p_mild = .6            # percentage of population with mild symptoms (death rate = 0)\n",
    "p_severe = .15         # percentage of population with severe symptoms (death rate half critical)\n",
    "p_critical = .05       # percentage of population with critical symptoms (death rate twice severe)\n",
    "\n",
    "####################\n",
    "# next we include probabilities that people with different severity remove themselves from contagious pool\n",
    "# this could be due to self quarintine, hospitalization, enforced quarintine etc\n",
    "\n",
    "p_asymp_rem = 0         # these people dont know they have symptoms so they wont isolate because of them\n",
    "p_mild_rem = 0.5        # only some of these people will remove\n",
    "p_severe_rem = .9       # most of these people remove on day 1 of symptoms (default 90%) by day 2 almost all (default 99%)\n",
    "p_critical_rem = 1.     # everyone (default) removes on day 1\n",
    "\n",
    "\n",
    "# Used in calculating death rate for different scenario assuming critical twice as deadly as severe\n",
    "mr = [0,0,mortality_rate/(p_severe+2*p_critical),2*mortality_rate/(p_severe+2*p_critical)]  \n",
    "\n",
    "if mr[0]*p_asymp+p_mild*mr[1]+p_severe*mr[2]+p_critical*mr[3]==mortality_rate:\n",
    "    pass\n",
    "else:\n",
    "    print('changes to mr are incompatible with the overall mortality rate. Fix this before continuing.')\n",
    "\n",
    "death_prob = np.exp(np.log(1-np.array(mr))/(cure_days-symp_days))  # This is used to simulate death\n",
    "\n",
    "if p_asymp+p_mild+p_severe+p_critical ==1:\n",
    "    pass\n",
    "else:\n",
    "    print('severity probabilities do not sum to 1. Fix this before continuing.')\n",
    "\n",
    "cont = np.zeros((N,))     # where number of contagious each time step people are stored\n",
    "infect = np.zeros((N,))  # where number of infected each time step people are stored\n",
    "cured = np.zeros((N,))   # where number of cured each time step people are stored\n",
    "dead = np.zeros((N,))  # where number of dead each time step people are stored\n",
    "R0 = np.zeros((N,))  # where average number of infections per contagious person is stored\n",
    "test_pos = np.zeros((N,))  # where number of people who have tested positive is stored\n",
    "\n",
    "p_rem = [p_asymp_rem,p_mild_rem,p_severe_rem,p_critical_rem]   # packaging the remove probs for easier use\n",
    "\n",
    "######\n",
    "#  Using p_var you can simulate the effects of temperature\n",
    "#  This messy function simulates resurgence \n",
    "# p_var = ((np.tanh(-1*np.sin(3.14*(np.arange(N)-N/4)/(N/3)))+1)/2*1/2+1/2)*p_trans*.95+1.1*(np.tanh(-1*np.sin(3.14*(np.arange(N)+N/2)/N))+1)*p_trans/4\n",
    "\n",
    "p_var = np.ones(N)*p_trans"
   ]
  },
  {
   "cell_type": "code",
   "execution_count": 203,
   "metadata": {},
   "outputs": [],
   "source": [
    "####\n",
    "# Setting attributes\n",
    "\n",
    "nx.set_node_attributes(pop, 0,'condition')          # tracker for how many time steps since infection\n",
    "nx.set_node_attributes(pop, 0,'contagious')         # 1 contagious 0 not contagious\n",
    "nx.set_node_attributes(pop, 0,'dead')\n",
    "nx.set_node_attributes(pop, 0,'day_infect') \n",
    "nx.set_node_attributes(pop, 0,'N_infect')           # tracker for how many people this person has infected \n",
    "nx.set_node_attributes(pop, 0,'severity')           # 0 = asymptomatic, 1 = mild, 2 = severe, 3 = critical\n",
    "nx.set_node_attributes(pop, 0,'confirmed')           \n",
    "# 2 = has tested positive but cured/removed, 1 = test positive and actively sick, 0 everything else\n",
    "\n",
    "######\n",
    "# Setting initial patients.  You can repeat this for multiple nodes if you want multiple seed patients\n",
    "\n",
    "pop.node[first]['condition'] = start_cont_days      # first person starts out contagious\n",
    "pop.node[first]['contagious'] = 1\n",
    "pop.node[first]['severity'] = 1                     # first person has mild symptoms\n",
    "\n",
    "\n",
    "np.random.seed(seed=10)       # for reproducibility\n",
    "\n",
    "\n",
    "\n",
    "for i in range(N):\n",
    "    l = [x for x,y in pop.nodes(data=True) if y['contagious']==1]   # list of everyone contagious\n",
    "    L = [x for x,y in pop.nodes(data=True) if ((y['condition']>=symp_days)&(y['condition']<=cure_days))] # list of people with symptoms\n",
    "    L2 = [x for x,y in pop.nodes(data=True) if ((y['condition']>0)&(y['condition']<start_cont_days))] # list of people infected but not contagious\n",
    "    L3 = [x for x,y in pop.nodes(data=True) if (y['condition']>0)]  # list of everyone who has ever been sick\n",
    "    infect[i] = len([x for x,y in pop.nodes(data=True) if y['condition']>0])\n",
    "    cont[i] = len(l)\n",
    "    cured[i] = len([x for x,y in pop.nodes(data=True) if y['condition']>=cure_days])\n",
    "    dead[i] = len([x for x,y in pop.nodes(data=True) if y['dead']==1])\n",
    "    test_pos[i] = len([x for x,y in pop.nodes(data=True) if y['confirmed'] == 1])\n",
    "    #######\n",
    "    # here you can institute social policies \n",
    "    if infect[i]>pop_size//100:\n",
    "        N_max = N_max\n",
    "    else:\n",
    "        pass\n",
    "    \n",
    "    p_trans = p_var[i]\n",
    "\n",
    "    ######\n",
    "    # This is where interactions cause new patients\n",
    "    for a in l:\n",
    "        temp = np.minimum(np.random.randint(low=0,high = int(len(list(pop.neighbors(a)))*2*p)+1),N_max)\n",
    "        l2 = np.random.choice(list(pop.neighbors(a)),temp, replace=False)\n",
    "        for j in l2:\n",
    "            if pop.node[j]['condition'] == 0:         # these people are not already sick \n",
    "                if np.random.uniform()<p_trans:       # interaction caused infection\n",
    "                    pop.node[j]['condition'] = 1\n",
    "                    pop.node[j]['contagious'] = 1\n",
    "                    pop.node[j]['day_infect'] = i\n",
    "                    r_temp = np.random.uniform()\n",
    "                    if r_temp<p_asymp:\n",
    "                        pop.node[j]['severity'] = 0\n",
    "                    elif r_temp<(p_mild+p_asymp):\n",
    "                        pop.node[j]['severity'] = 1\n",
    "                    elif r_temp<(p_mild+p_severe+p_asymp):\n",
    "                        pop.node[j]['severity'] = 2\n",
    "                    else:\n",
    "                        pop.node[j]['severity'] = 3\n",
    "                    pop.node[a]['N_infect'] +=1       # for keeping track of how many infections someone caused\n",
    "                    \n",
    "                else:                                 # interaction did not caused infection\n",
    "                    pass\n",
    "            else:            # these people were already sick \n",
    "                pass\n",
    "            \n",
    "    for a in l:\n",
    "        R0[i] += pop.node[a]['N_infect']/len(l)\n",
    "        \n",
    "            \n",
    "    ################\n",
    "    # This is where random testing happens\n",
    "    L4 = [x for x,y in pop.nodes(data=True) if y['confirmed'] == 0 and y['dead'] != 1]\n",
    "    l4 = np.random.choice(L4, N_rand_test, replace=False)\n",
    "    for k in l4:\n",
    "        if pop.node[k]['condition'] ==0:    # this person has never been sick\n",
    "            pass\n",
    "        elif pop.node[k]['condition'] >= cure_days:   # this person was already sick, but has been cured\n",
    "            pop.node[k]['confirmed'] = 2\n",
    "        else:\n",
    "            pop.node[k]['contagious'] = 0     # this person gets quarintined if they are contagious\n",
    "            pop.node[k]['confirmed'] = 1      # this is now a confirmed case\n",
    "            \n",
    "    ######\n",
    "    # This is where people become contagious\n",
    "    for a in L2:\n",
    "        if pop.node[a]['condition']<start_cont_days:\n",
    "            pass\n",
    "        # This person becomes contagious because the disease was not noticed beforehand\n",
    "        elif pop.node[a]['condition']==start_cont_days and pop.node[a]['confirmed']==0:  \n",
    "            pop.node[a]['contagious'] = 1\n",
    "        # This person doesnt become contagious because their case was caught beforehand, but they can still have complications\n",
    "        elif pop.node[a]['condition']==start_cont_days and pop.node[a]['confirmed']==1:\n",
    "            pass\n",
    "        else:\n",
    "            print('error')\n",
    "                \n",
    "\n",
    "    ######\n",
    "    # This is where people stop being contagious\n",
    "    for a in l:\n",
    "        if pop.node[a]['condition'] < cont_days:\n",
    "            pass\n",
    "        else:\n",
    "            pop.node[a]['contagious'] = 0\n",
    "\n",
    "            \n",
    "    for a in L:\n",
    "        temp = np.random.uniform()\n",
    "        if temp< p_rem[pop.node[a]['severity']]:\n",
    "            pop.node[a]['contagious'] = 0\n",
    "        else:\n",
    "            pass\n",
    "    \n",
    "\n",
    "\n",
    "    for a in L:\n",
    "        temp = np.random.uniform()\n",
    "        if temp>death_prob[pop.node[a]['severity']]:\n",
    "            pop.node[a]['contagious'] = 0\n",
    "            pop.node[a]['dead'] = 1\n",
    "            pop.node[a]['confirmed'] = 2\n",
    "        else:\n",
    "            pass\n",
    "\n",
    "    for a in L3:\n",
    "        if pop.node[a]['dead'] == 1:\n",
    "            pass\n",
    "        elif pop.node[a]['condition']>= cure_days:\n",
    "            pop.node[a]['confirmed'] = 2\n",
    "            pop.node[a]['condition'] += 1\n",
    "        else:\n",
    "            pop.node[a]['condition'] += 1\n",
    "            \n",
    "\n"
   ]
  },
  {
   "cell_type": "code",
   "execution_count": 174,
   "metadata": {},
   "outputs": [],
   "source": [
    "# first run\n",
    "cont0 = cont\n",
    "infect0 = infect\n",
    "cured0 = cured"
   ]
  },
  {
   "cell_type": "code",
   "execution_count": 200,
   "metadata": {},
   "outputs": [],
   "source": [
    "# second run\n",
    "cont1 = cont\n",
    "infect1 = infect\n",
    "cured1 = cured"
   ]
  },
  {
   "cell_type": "code",
   "execution_count": 181,
   "metadata": {},
   "outputs": [
    {
     "data": {
      "text/plain": [
       "[<matplotlib.lines.Line2D at 0xa29151240>]"
      ]
     },
     "execution_count": 181,
     "metadata": {},
     "output_type": "execute_result"
    },
    {
     "data": {
      "image/png": "[encoded data removed]",
      "text/plain": [
       "<Figure size 432x288 with 1 Axes>"
      ]
     },
     "metadata": {
      "needs_background": "light"
     },
     "output_type": "display_data"
    }
   ],
   "source": [
    "plt.plot(cont)\n",
    "plt.plot(infect)\n",
    "plt.plot(cured)\n"
   ]
  },
  {
   "cell_type": "code",
   "execution_count": 204,
   "metadata": {},
   "outputs": [
    {
     "data": {
      "text/plain": [
       "[Text(0.5, 0, 'time steps')]"
      ]
     },
     "execution_count": 204,
     "metadata": {},
     "output_type": "execute_result"
    },
    {
     "data": {
      "image/png": "[encoded data removed]",
      "text/plain": [
       "<Figure size 648x324 with 2 Axes>"
      ]
     },
     "metadata": {
      "needs_background": "light"
     },
     "output_type": "display_data"
    }
   ],
   "source": [
    "fig, (ax1, ax2) = plt.subplots(nrows = 1,ncols = 2, figsize=(9, 4.5))\n",
    "fig.suptitle('How effective is random testing?')\n",
    "ax1.plot(cont0[:100]/pop_size, 'C0', label = 'contagious')\n",
    "ax1.plot(cont1[:100]/pop_size, 'C0--')\n",
    "ax1.plot(cont[:100]/pop_size, 'C0:')\n",
    "ax1.legend()\n",
    "ax1.set(xlabel='time steps', ylabel='fraction of population')\n",
    "\n",
    "ax2.plot(infect0[:100]/pop_size,'C1',label = 'infected')\n",
    "ax2.plot(infect1[:100]/pop_size, 'C1--')\n",
    "ax2.plot(infect[:100]/pop_size, 'C1:')\n",
    "# ax2.plot(cured0[:100]/pop_size,'C2',label = 'cured')\n",
    "# ax2.plot(cured1[:100]/pop_size, 'C2--')\n",
    "# ax2.plot(cured[:100]/pop_size, 'C2:')\n",
    "ax2.legend()\n",
    "ax2.set(xlabel='time steps')"
   ]
  },
  {
   "cell_type": "code",
   "execution_count": 190,
   "metadata": {},
   "outputs": [
    {
     "data": {
      "text/plain": [
       "2.0"
      ]
     },
     "execution_count": 190,
     "metadata": {},
     "output_type": "execute_result"
    }
   ],
   "source": [
    "infect.max()"
   ]
  },
  {
   "cell_type": "code",
   "execution_count": 189,
   "metadata": {},
   "outputs": [
    {
     "name": "stderr",
     "output_type": "stream",
     "text": [
      "/Users/michaelspillane/anaconda3/lib/python3.7/site-packages/ipykernel_launcher.py:1: RuntimeWarning: divide by zero encountered in log\n",
      "  \"\"\"Entry point for launching an IPython kernel.\n",
      "/Users/michaelspillane/anaconda3/lib/python3.7/site-packages/ipykernel_launcher.py:2: RuntimeWarning: divide by zero encountered in log\n",
      "  \n"
     ]
    },
    {
     "data": {
      "text/plain": [
       "[<matplotlib.lines.Line2D at 0xa2a83a5c0>]"
      ]
     },
     "execution_count": 189,
     "metadata": {},
     "output_type": "execute_result"
    },
    {
     "data": {
      "image/png": "[encoded data removed]",
      "text/plain": [
       "<Figure size 432x288 with 1 Axes>"
      ]
     },
     "metadata": {
      "needs_background": "light"
     },
     "output_type": "display_data"
    }
   ],
   "source": [
    "plt.plot(np.log(test_pos))\n",
    "plt.plot(np.log(infect-cured-dead))"
   ]
  },
  {
   "cell_type": "code",
   "execution_count": 153,
   "metadata": {},
   "outputs": [
    {
     "data": {
      "text/plain": [
       "[<matplotlib.lines.Line2D at 0xa279f12b0>]"
      ]
     },
     "execution_count": 153,
     "metadata": {},
     "output_type": "execute_result"
    },
    {
     "data": {
      "image/png": "[encoded data removed]",
      "text/plain": [
       "<Figure size 432x288 with 1 Axes>"
      ]
     },
     "metadata": {
      "needs_background": "light"
     },
     "output_type": "display_data"
    }
   ],
   "source": [
    "plt.plot(infect-cured)\n",
    "plt.plot(dead)"
   ]
  },
  {
   "cell_type": "code",
   "execution_count": 94,
   "metadata": {},
   "outputs": [
    {
     "data": {
      "text/plain": [
       "(0.32286, 0.51058, 0.12638, 0.04018)"
      ]
     },
     "execution_count": 94,
     "metadata": {},
     "output_type": "execute_result"
    }
   ],
   "source": [
    "(np.array(list(sev.values()))==0).mean(),(np.array(list(sev.values()))==1).mean(),(np.array(list(sev.values()))==2).mean(),(np.array(list(sev.values()))==3).mean()"
   ]
  },
  {
   "cell_type": "code",
   "execution_count": 94,
   "metadata": {},
   "outputs": [
    {
     "data": {
      "text/plain": [
       "[<matplotlib.lines.Line2D at 0xa27fabac8>]"
      ]
     },
     "execution_count": 94,
     "metadata": {},
     "output_type": "execute_result"
    },
    {
     "data": {
      "image/png": "[encoded data removed]",
      "text/plain": [
       "<Figure size 432x288 with 1 Axes>"
      ]
     },
     "metadata": {
      "needs_background": "light"
     },
     "output_type": "display_data"
    }
   ],
   "source": [
    "plt.plot(dead/infect)"
   ]
  },
  {
   "cell_type": "code",
   "execution_count": 160,
   "metadata": {},
   "outputs": [
    {
     "data": {
      "text/plain": [
       "[]"
      ]
     },
     "execution_count": 160,
     "metadata": {},
     "output_type": "execute_result"
    }
   ],
   "source": [
    "[x for x,y in pop.nodes(data=True) if y['confirmed'] == 1]"
   ]
  },
  {
   "cell_type": "code",
   "execution_count": 145,
   "metadata": {},
   "outputs": [
    {
     "data": {
      "text/plain": [
       "{'condition': 14,\n",
       " 'contagious': 0,\n",
       " 'dead': 1,\n",
       " 'N_infect': 10,\n",
       " 'severity': 2,\n",
       " 'confirmed': 1,\n",
       " 'day_infect': 30}"
      ]
     },
     "execution_count": 145,
     "metadata": {},
     "output_type": "execute_result"
    }
   ],
   "source": [
    "pop.node[52]"
   ]
  },
  {
   "cell_type": "code",
   "execution_count": 109,
   "metadata": {},
   "outputs": [
    {
     "data": {
      "text/plain": [
       "36469"
      ]
     },
     "execution_count": 109,
     "metadata": {},
     "output_type": "execute_result"
    }
   ],
   "source": [
    "len([x for x,y in pop.nodes(data=True) if (y['condition']>0)])"
   ]
  },
  {
   "cell_type": "code",
   "execution_count": 110,
   "metadata": {},
   "outputs": [
    {
     "data": {
      "text/plain": [
       "36469.0"
      ]
     },
     "execution_count": 110,
     "metadata": {},
     "output_type": "execute_result"
    }
   ],
   "source": [
    "infect[-1]"
   ]
  },
  {
   "cell_type": "code",
   "execution_count": 211,
   "metadata": {},
   "outputs": [],
   "source": [
    "day_infect=np.array(list(nx.get_node_attributes(pop,'day_infect').values()))"
   ]
  },
  {
   "cell_type": "code",
   "execution_count": 215,
   "metadata": {},
   "outputs": [
    {
     "data": {
      "text/plain": [
       "(array([0.000e+00, 1.000e+00, 2.000e+00, 0.000e+00, 0.000e+00, 0.000e+00,\n",
       "        0.000e+00, 0.000e+00, 0.000e+00, 0.000e+00, 0.000e+00, 0.000e+00,\n",
       "        1.000e+00, 3.000e+00, 1.000e+00, 1.000e+00, 3.000e+00, 8.000e+00,\n",
       "        7.000e+00, 1.400e+01, 2.000e+01, 3.600e+01, 3.500e+01, 6.400e+01,\n",
       "        9.600e+01, 1.220e+02, 1.800e+02, 2.250e+02, 3.160e+02, 4.050e+02,\n",
       "        5.620e+02, 7.400e+02, 8.910e+02, 1.029e+03, 1.254e+03, 1.407e+03,\n",
       "        1.599e+03, 1.798e+03, 1.925e+03, 1.874e+03, 1.880e+03, 1.918e+03,\n",
       "        1.777e+03, 1.602e+03, 1.471e+03, 1.282e+03, 1.138e+03, 9.870e+02,\n",
       "        8.600e+02, 7.550e+02, 6.710e+02, 5.470e+02, 4.680e+02, 4.090e+02,\n",
       "        3.290e+02, 2.680e+02, 1.810e+02, 1.740e+02, 1.500e+02, 1.220e+02,\n",
       "        9.100e+01, 9.200e+01, 5.900e+01, 5.500e+01, 5.500e+01, 3.700e+01,\n",
       "        2.800e+01, 1.600e+01, 1.300e+01, 1.200e+01, 4.000e+00, 6.000e+00,\n",
       "        4.000e+00, 6.000e+00, 2.000e+00, 3.000e+00, 3.000e+00, 3.000e+00,\n",
       "        4.000e+00, 1.000e+00, 0.000e+00, 0.000e+00, 1.000e+00, 1.000e+00,\n",
       "        0.000e+00, 0.000e+00, 0.000e+00, 0.000e+00, 0.000e+00, 0.000e+00,\n",
       "        0.000e+00, 0.000e+00, 0.000e+00, 0.000e+00, 0.000e+00, 0.000e+00,\n",
       "        0.000e+00, 0.000e+00]),\n",
       " array([ 1,  2,  3,  4,  5,  6,  7,  8,  9, 10, 11, 12, 13, 14, 15, 16, 17,\n",
       "        18, 19, 20, 21, 22, 23, 24, 25, 26, 27, 28, 29, 30, 31, 32, 33, 34,\n",
       "        35, 36, 37, 38, 39, 40, 41, 42, 43, 44, 45, 46, 47, 48, 49, 50, 51,\n",
       "        52, 53, 54, 55, 56, 57, 58, 59, 60, 61, 62, 63, 64, 65, 66, 67, 68,\n",
       "        69, 70, 71, 72, 73, 74, 75, 76, 77, 78, 79, 80, 81, 82, 83, 84, 85,\n",
       "        86, 87, 88, 89, 90, 91, 92, 93, 94, 95, 96, 97, 98, 99]),\n",
       " <a list of 98 Patch objects>)"
      ]
     },
     "execution_count": 215,
     "metadata": {},
     "output_type": "execute_result"
    },
    {
     "data": {
      "image/png": "[encoded data removed]",
      "text/plain": [
       "<Figure size 432x288 with 1 Axes>"
      ]
     },
     "metadata": {
      "needs_background": "light"
     },
     "output_type": "display_data"
    }
   ],
   "source": [
    "plt.hist(day_infect,bins = np.arange(1,100))"
   ]
  },
  {
   "cell_type": "code",
   "execution_count": 210,
   "metadata": {},
   "outputs": [
    {
     "data": {
      "text/plain": [
       "{}"
      ]
     },
     "execution_count": 210,
     "metadata": {},
     "output_type": "execute_result"
    }
   ],
   "source": [
    "nx.get_node_attributes(pop,'day_infected')"
   ]
  },
  {
   "cell_type": "code",
   "execution_count": 214,
   "metadata": {},
   "outputs": [
    {
     "data": {
      "text/plain": [
       "array([1., 1., 1., 2., 4., 4., 4., 4., 4., 4.])"
      ]
     },
     "execution_count": 214,
     "metadata": {},
     "output_type": "execute_result"
    }
   ],
   "source": [
    "infect[:10]"
   ]
  },
  {
   "cell_type": "code",
   "execution_count": null,
   "metadata": {},
   "outputs": [],
   "source": []
  }
 ],
 "metadata": {
  "kernelspec": {
   "display_name": "Python 3",
   "language": "python",
   "name": "python3"
  },
  "language_info": {
   "codemirror_mode": {
    "name": "ipython",
    "version": 3
   },
   "file_extension": ".py",
   "mimetype": "text/x-python",
   "name": "python",
   "nbconvert_exporter": "python",
   "pygments_lexer": "ipython3",
   "version": "3.7.3"
  }
 },
 "nbformat": 4,
 "nbformat_minor": 2
}
