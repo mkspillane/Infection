{
 "cells": [
  {
   "cell_type": "code",
   "execution_count": 1,
   "metadata": {},
   "outputs": [],
   "source": [
    "import numpy as np\n",
    "import networkx as nx\n",
    "import matplotlib.pyplot as plt"
   ]
  },
  {
   "cell_type": "markdown",
   "metadata": {},
   "source": [
    "First you need to build the graph in networkX.  Barabasi-Albert graphs are supposed to be similar to human networks."
   ]
  },
  {
   "cell_type": "code",
   "execution_count": 320,
   "metadata": {},
   "outputs": [],
   "source": [
    "pop_size = 50000\n",
    "# pop = nx.barabasi_albert_graph(pop_size, 10, seed = 5)\n",
    "pop = nx.powerlaw_cluster_graph(pop_size, m=7, p = .2, seed=5)"
   ]
  },
  {
   "cell_type": "markdown",
   "metadata": {},
   "source": [
    "We need to choose an initial infected person.  You can start with more infected people, but need to make edits below."
   ]
  },
  {
   "cell_type": "code",
   "execution_count": 321,
   "metadata": {},
   "outputs": [],
   "source": [
    "first = np.random.randint(pop_size-pop_size//5)+pop_size//5"
   ]
  },
  {
   "cell_type": "markdown",
   "metadata": {},
   "source": [
    "This is where you set up initial parameters for the transmition."
   ]
  },
  {
   "cell_type": "code",
   "execution_count": 343,
   "metadata": {},
   "outputs": [],
   "source": [
    "N_max = 20  #The hard cap of the number of people a person can interact with in a day \n",
    "             #this can be edited during run to simulate social distancing\n",
    "p=.2        #The percentage of persons contacts they interact with\n",
    "             #this can be edited during run to simulate social distancing\n",
    "symp_days = 10    # number of time steps until symptoms appear\n",
    "start_cont_days = 6  # number of time steps until contagious starts\n",
    "cont_days = 16    # number of time steps from contraction to not contagious\n",
    "cure_days = 24   # number of time steps from contraction to being cured\n",
    "mortality_rate = 0.03   #mortality rate\n",
    "death_prob = np.exp(np.log(1-mortality_rate)/(cure_days-cont_days))  # This is used to simulate death\n",
    "p_trans = .125/2   # probability an interaction results in an infection\n",
    "N = 150       # number of iterations to run simulation for\n",
    "p_asymp = .2\n",
    "p_mild = .6\n",
    "p_severe = .15\n",
    "p_critical = .05\n",
    "\n",
    "if p_asymp+p_mild+p_severe+p_critical ==1:\n",
    "    pass\n",
    "else:\n",
    "    print('severity probabilities do not sum to 1')\n",
    "\n",
    "cont = np.zeros((N,))     # where number of contagious each time step people are stored\n",
    "infect = np.zeros((N,))  # where number of infected each time step people are stored\n",
    "cured = np.zeros((N,))   # where number of cured each time step people are stored\n",
    "dead = np.zeros((N,))  # where number of dead each time step people are stored\n",
    "R0 = np.zeros((N,))  # where average number of infections per contagious person is stored\n",
    "\n",
    "######\n",
    "#  Using p_var you can simulate the effects of temperature\n",
    "#  This messy function simulates resurgence \n",
    "# p_var = ((np.tanh(-1*np.sin(3.14*(np.arange(N)-N/4)/(N/3)))+1)/2*1/2+1/2)*p_trans*.95+1.1*(np.tanh(-1*np.sin(3.14*(np.arange(N)+N/2)/N))+1)*p_trans/4\n",
    "\n",
    "p_var = np.ones(N)*p_trans"
   ]
  },
  {
   "cell_type": "code",
   "execution_count": 344,
   "metadata": {},
   "outputs": [],
   "source": [
    "####\n",
    "# Setting attributes\n",
    "\n",
    "nx.set_node_attributes(pop, 0,'condition')           # tracker for how many time steps since infection\n",
    "nx.set_node_attributes(pop, 0,'contagious')         # 1 contagious 0 not contagious\n",
    "nx.set_node_attributes(pop, 0,'dead')\n",
    "nx.set_node_attributes(pop, 0,'N_infect')           # tracker for how many people this person has infected \n",
    "nx.set_node_attributes(pop, 0,'severity')           # 0 = asymptomatic, 1 = mild, 2 = severe, 3 = critical\n",
    "\n",
    "######\n",
    "# Setting initial patients.  You can repeat this for multiple nodes if you want multiple seed patients\n",
    "\n",
    "pop.node[first]['condition'] = start_cont_days      # first person starts out contagious\n",
    "pop.node[first]['contagious'] = 1\n",
    "pop.node[first]['severity'] = 1                     # first person has mild symptoms\n",
    "\n",
    "\n",
    "np.random.seed(seed=10)       # for reproducibility\n",
    "\n",
    "\n",
    "\n",
    "for i in range(N):\n",
    "    l = [x for x,y in pop.nodes(data=True) if y['contagious']==1]   # list of everyont contagious\n",
    "    L = [x for x,y in pop.nodes(data=True) if ((y['condition']>symp_days)&(y['condition']<cure_days-1))] # list of people with symptoms\n",
    "    L2 = [x for x,y in pop.nodes(data=True) if ((y['condition']>0)&(y['condition']<start_cont_days))] # list of people infected but not contagious\n",
    "    infect[i] = len([x for x,y in pop.nodes(data=True) if y['condition']>0])\n",
    "    cont[i] = len(l)\n",
    "    cured[i] = len([x for x,y in pop.nodes(data=True) if y['condition']>cure_days-2])\n",
    "    dead[i] = len([x for x,y in pop.nodes(data=True) if y['dead']==1])\n",
    "    #######\n",
    "    # here you can institute social policies \n",
    "    if infect[i]>pop_size//100:\n",
    "        N_max = N_max\n",
    "    else:\n",
    "        pass\n",
    "    \n",
    "    p_trans = p_var[i]\n",
    "\n",
    "    ######\n",
    "    # This is where interactions cause new patients\n",
    "    for a in l:\n",
    "        temp = np.minimum(np.random.randint(low=0,high = int(len(list(pop.neighbors(a)))*2*p)+1),N_max)\n",
    "        l2 = np.random.choice(list(pop.neighbors(a)),temp, replace=False)\n",
    "        for j in l2:\n",
    "            if pop.node[j]['condition'] == 0:\n",
    "                if np.random.uniform()<p_trans:       # interaction caused infection\n",
    "                    pop.node[j]['condition'] = 1\n",
    "                    pop.node[j]['contagious'] = 1\n",
    "                    r_temp = np.random.uniform()\n",
    "                    if r_temp<p_asymp:\n",
    "                        pop.node[j]['severity'] = 0\n",
    "                    elif r_temp<(p_mild):\n",
    "                        pop.node[j]['severity'] = 1\n",
    "                    elif r_temp<(p_mild+p_severe):\n",
    "                        pop.node[j]['severity'] = 2\n",
    "                    else:\n",
    "                        pop.node[j]['severity'] = 3\n",
    "                    pop.node[a]['N_infect'] +=1       # for keeping track of how many infections someone caused\n",
    "                else:                                 # interaction did not caused infection\n",
    "                    pass\n",
    "            else:\n",
    "                pass\n",
    "            \n",
    "    for a in l:\n",
    "        R0[i] += pop.node[a]['N_infect']/len(l)\n",
    "    ######\n",
    "    # This is where people become contagious\n",
    "    for a in L2:\n",
    "        if pop.node[a]['condition']<start_cont_days:\n",
    "            pop.node[a]['condition'] += 1\n",
    "        elif pop.node[a]['condition']==start_cont_days:\n",
    "            pop.node[a]['condition'] += 1\n",
    "            pop.node[a]['contagious'] = 1\n",
    "        else:\n",
    "            print('error')\n",
    "                \n",
    "        \n",
    "    ######\n",
    "    # This is where people stop being contagious\n",
    "    for a in l:\n",
    "        if pop.node[a]['condition'] < cont_days:\n",
    "            pop.node[a]['condition'] += 1\n",
    "        else:\n",
    "            pop.node[a]['contagious'] = 0\n",
    "            pop.node[a]['condition'] += 1\n",
    "    ######\n",
    "    # This is where people die \n",
    "    for a in L:\n",
    "        temp = np.random.uniform()\n",
    "        if temp>death_prob:\n",
    "            pop.node[a]['contagious'] = 0\n",
    "            pop.node[a]['dead'] = 1\n",
    "        else:\n",
    "            pop.node[a]['condition'] += 1\n"
   ]
  },
  {
   "cell_type": "code",
   "execution_count": 368,
   "metadata": {},
   "outputs": [
    {
     "data": {
      "text/plain": [
       "[Text(0.5, 0, 'time steps')]"
      ]
     },
     "execution_count": 368,
     "metadata": {},
     "output_type": "execute_result"
    },
    {
     "data": {
      "image/png": "[encoded data removed]",
      "text/plain": [
       "<Figure size 648x324 with 2 Axes>"
      ]
     },
     "metadata": {
      "needs_background": "light"
     },
     "output_type": "display_data"
    }
   ],
   "source": [
    "fig, (ax1, ax2) = plt.subplots(nrows = 1,ncols = 2, figsize=(9, 4.5))\n",
    "fig.suptitle('Social Distancing')\n",
    "ax1.plot(cont/pop_size, 'C0', label = 'contagious')\n",
    "ax1.plot(cont1/pop_size, 'C0--')\n",
    "ax1.set(xlabel='time steps', ylabel='fraction of population')\n",
    "\n",
    "ax2.plot(infect/pop_size,'C1',label = 'infected')\n",
    "ax2.plot(infect1/pop_size, 'C1--')\n",
    "ax2.plot(cured/pop_size,'C2',label = 'cured')\n",
    "ax2.plot(cured1/pop_size, 'C2--')\n",
    "ax2.set(xlabel='time steps')"
   ]
  },
  {
   "cell_type": "code",
   "execution_count": 342,
   "metadata": {},
   "outputs": [],
   "source": [
    "cont1 = cont\n",
    "infect1 = infect\n",
    "cured1 = cured"
   ]
  },
  {
   "cell_type": "code",
   "execution_count": null,
   "metadata": {},
   "outputs": [],
   "source": []
  }
 ],
 "metadata": {
  "kernelspec": {
   "display_name": "Python 3",
   "language": "python",
   "name": "python3"
  },
  "language_info": {
   "codemirror_mode": {
    "name": "ipython",
    "version": 3
   },
   "file_extension": ".py",
   "mimetype": "text/x-python",
   "name": "python",
   "nbconvert_exporter": "python",
   "pygments_lexer": "ipython3",
   "version": "3.7.3"
  }
 },
 "nbformat": 4,
 "nbformat_minor": 2
}
