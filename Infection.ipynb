{
 "cells": [
  {
   "cell_type": "code",
   "execution_count": 1,
   "metadata": {},
   "outputs": [],
   "source": [
    "import numpy as np\n",
    "import networkx as nx\n",
    "import matplotlib.pyplot as plt"
   ]
  },
  {
   "cell_type": "markdown",
   "metadata": {},
   "source": [
    "First you need to build the graph in networkX.  Barabasi-Albert graphs are supposed to be similar to human networks."
   ]
  },
  {
   "cell_type": "code",
   "execution_count": 8,
   "metadata": {},
   "outputs": [],
   "source": [
    "pop_size = 50000\n",
    "pop = nx.barabasi_albert_graph(pop_size, 15, seed = 5)"
   ]
  },
  {
   "cell_type": "markdown",
   "metadata": {},
   "source": [
    "We need to choose an initial infected person.  You can start with more infected people, but need to make edits below."
   ]
  },
  {
   "cell_type": "code",
   "execution_count": 9,
   "metadata": {},
   "outputs": [],
   "source": [
    "first = np.random.randint(pop_size-pop_size//5)+pop_size//5"
   ]
  },
  {
   "cell_type": "markdown",
   "metadata": {},
   "source": [
    "This is where you set up initial parameters for the transmition."
   ]
  },
  {
   "cell_type": "code",
   "execution_count": 10,
   "metadata": {},
   "outputs": [],
   "source": [
    "\n",
    "N_max = 15   #The hard cap of the number of people a person can interact with in a day \n",
    "             #this can be edited during run to simulate social distancing\n",
    "p=.2         #The percentage of persons contacts they interact with\n",
    "             #this can be edited during run to simulate social distancing\n",
    "cont_days = 9    # number of days a person is contagious for\n",
    "cure_days = 20   # number of days from contraction to being cured\n",
    "mortality_rate = 0.03   #mortality rate\n",
    "death_prob = np.exp(np.log(1-mortality_rate)/(cure_days-cont_days))  # This is used to simulate death\n",
    "p_trans = .125/4    # probability an interaction results in an infection\n",
    "N = 150       # number of iterations to run simulation for\n",
    "\n",
    "cont = np.zeros((N,))     # where number of contagious people are stored\n",
    "infect = np.zeros((N,))  # where number of infected people are stored\n",
    "cured = np.zeros((N,))   # where number of cured people are stored\n",
    "dead = np.zeros((N,))  # where number of dead people are stored"
   ]
  },
  {
   "cell_type": "code",
   "execution_count": 12,
   "metadata": {},
   "outputs": [],
   "source": [
    "####\n",
    "# Setting attributes\n",
    "\n",
    "nx.set_node_attributes(pop, 0,'condition')\n",
    "nx.set_node_attributes(pop, 0,'contagious')\n",
    "nx.set_node_attributes(pop, 0,'dead')\n",
    "\n",
    "######\n",
    "# Setting initial patients.  You can repeat this for multiple nodes if you want multiple seed patients\n",
    "\n",
    "pop.node[first]['condition'] = 1\n",
    "pop.node[first]['contagious'] = 1\n",
    "\n",
    "\n",
    "np.random.seed(seed=10)\n",
    "\n",
    "\n",
    "for i in range(N):\n",
    "    l = [x for x,y in pop.nodes(data=True) if y['contagious']==1]\n",
    "    L = [x for x,y in pop.nodes(data=True) if ((y['condition']>cont_days)&(y['condition']<cure_days-1))]\n",
    "    infect[i] = len([x for x,y in pop.nodes(data=True) if y['condition']>0])\n",
    "    cont[i] = len(l)\n",
    "    cured[i] = len([x for x,y in pop.nodes(data=True) if y['condition']>cure_days-2])\n",
    "    dead[i] = len([x for x,y in pop.nodes(data=True) if y['dead']==1])\n",
    "    #######\n",
    "    # here you can institute social policies \n",
    "    if infect[i]>pop_size//100:\n",
    "        N_max = N_max\n",
    "    else:\n",
    "        pass\n",
    "\n",
    "    ######\n",
    "    # This is where interactions cause new patients\n",
    "    for a in l:\n",
    "        temp = np.minimum(np.random.randint(low=0,high = int(len(list(pop.neighbors(a)))*2*p)+1),N_max)\n",
    "        l2 = np.random.choice(list(pop.neighbors(a)),temp, replace=False)\n",
    "        for i in l2:\n",
    "            if pop.node[i]['condition'] == 0:\n",
    "                if np.random.uniform()<p_trans:\n",
    "                    pop.node[i]['condition'] = 1\n",
    "                    pop.node[i]['contagious'] = 1\n",
    "                else:\n",
    "                    pass\n",
    "            else:\n",
    "                pass\n",
    "    ######\n",
    "    # This is where people stop being contagious\n",
    "    for a in l:\n",
    "        if pop.node[a]['condition'] < cont_days:\n",
    "            pop.node[a]['condition'] += 1\n",
    "        else:\n",
    "            pop.node[a]['contagious'] = 0\n",
    "            pop.node[a]['condition'] += 1\n",
    "    ######\n",
    "    # This is where people die \n",
    "    for a in L:\n",
    "        temp = np.random.uniform()\n",
    "        if temp>death_prob:\n",
    "            pop.node[a]['contagious'] = 0\n",
    "            pop.node[a]['dead'] = 1\n",
    "        else:\n",
    "            pop.node[a]['condition'] += 1\n"
   ]
  },
  {
   "cell_type": "code",
   "execution_count": 17,
   "metadata": {},
   "outputs": [
    {
     "data": {
      "text/plain": [
       "[<matplotlib.lines.Line2D at 0xa318ab128>]"
      ]
     },
     "execution_count": 17,
     "metadata": {},
     "output_type": "execute_result"
    },
    {
     "data": {
      "image/png": "[encoded data removed]",
      "text/plain": [
       "<Figure size 432x288 with 1 Axes>"
      ]
     },
     "metadata": {
      "needs_background": "light"
     },
     "output_type": "display_data"
    }
   ],
   "source": [
    "plt.plot(cont)\n",
    "plt.plot(dead)\n",
    "plt.plot(infect)\n",
    "plt.plot(cured)"
   ]
  }
 ],
 "metadata": {
  "kernelspec": {
   "display_name": "Python 3",
   "language": "python",
   "name": "python3"
  },
  "language_info": {
   "codemirror_mode": {
    "name": "ipython",
    "version": 3
   },
   "file_extension": ".py",
   "mimetype": "text/x-python",
   "name": "python",
   "nbconvert_exporter": "python",
   "pygments_lexer": "ipython3",
   "version": "3.7.3"
  }
 },
 "nbformat": 4,
 "nbformat_minor": 2
}
